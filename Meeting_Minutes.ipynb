{
 "cells": [
  {
   "cell_type": "markdown",
   "metadata": {},
   "source": [
    "# Meeting Minutes"
   ]
  },
  {
   "cell_type": "markdown",
   "metadata": {},
   "source": [
    "### 19/11/2024\n",
    "We've talked about and agreed:\n",
    "<ol>\n",
    "    <li> Read Farhadifar et al. 2007 in detail and study the model and their main results.\n",
    "    <li> Start experimenting with Tyssue and run some simple tutorials.\n",
    "    <li> In some time reproduce Farhadifar's results, i.e. generating a tissue, allowing for cell divisions to get a disordered tissue, reproducing Lewis' law.\n",
    "    <li> Meet twice a week at least for the starting period. The current plan is 10 am on Tuesdays and 2 pm on Thursdays.\n",
    "</ol>"
   ]
  },
  {
   "cell_type": "markdown",
   "metadata": {},
   "source": [
    "### NEXT MEETING DATE\n",
    "\n",
    "My questions:\n",
    "<ol>\n",
    "<li> Why are the line tensions linear terms in the energy function?\n",
    "<li> Getting error when setting headiwdth != 0\n",
    "<li> Can't save gifs\n",
    "</ol>"
   ]
  }
 ],
 "metadata": {
  "language_info": {
   "name": "python"
  }
 },
 "nbformat": 4,
 "nbformat_minor": 2
}
