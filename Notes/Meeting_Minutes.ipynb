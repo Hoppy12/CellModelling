{
 "cells": [
  {
   "cell_type": "markdown",
   "metadata": {},
   "source": [
    "# Meeting Minutes"
   ]
  },
  {
   "cell_type": "markdown",
   "metadata": {},
   "source": [
    "### 19/11/2024\n",
    "We've talked about and agreed:\n",
    "<ol>\n",
    "    <li> Read Farhadifar et al. 2007 in detail and study the model and their main results.\n",
    "    <li> Start experimenting with Tyssue and run some simple tutorials.\n",
    "    <li> In some time reproduce Farhadifar's results, i.e. generating a tissue, allowing for cell divisions to get a disordered tissue, reproducing Lewis' law.\n",
    "    <li> Meet twice a week at least for the starting period. The current plan is 10 am on Tuesdays and 2 pm on Thursdays.\n",
    "</ol>"
   ]
  },
  {
   "cell_type": "markdown",
   "metadata": {},
   "source": [
    "### 21/11/2024\n",
    "\n",
    "My questions:\n",
    "<ol>\n",
    "<li> Getting error when setting headwdth != 0\n",
    "<li> Can't save gifs\n",
    "</ol>\n",
    "\n",
    "Minutes:\n",
    "<ol>\n",
    "<li> Differentiate energy function using chain rule. Simplify area terms by considering triangle formed by vertex and its 2 adjacent vertices.\n",
    "<li> Continue working towards recreating Farhadifar's results. Consider the boundary conditions used in the paper.\n",
    "<li> Sort out half edge issue example to show at next meeting\n",
    "<li> Validate manually that a few of the calculations work correctly in the vertices\n",
    "<li> We will have one meeting sometime next week over zoom (Tom, Alisa, Phil)\n",
    "</ol>"
   ]
  }
 ],
 "metadata": {
  "language_info": {
   "name": "python"
  }
 },
 "nbformat": 4,
 "nbformat_minor": 2
}
